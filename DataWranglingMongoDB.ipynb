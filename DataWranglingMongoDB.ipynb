{
 "cells": [
  {
   "cell_type": "code",
   "execution_count": 4,
   "metadata": {
    "collapsed": false
   },
   "outputs": [],
   "source": [
    "import os\n",
    "import os.path\n",
    "import sys\n",
    "import time\n",
    "import requests\n",
    "import xml.etree.cElementTree as ET\n",
    "import pprint\n",
    "import re\n",
    "import codecs\n",
    "import json\n",
    "from collections import defaultdict"
   ]
  },
  {
   "cell_type": "code",
   "execution_count": 6,
   "metadata": {
    "collapsed": false
   },
   "outputs": [
    {
     "name": "stdout",
     "output_type": "stream",
     "text": [
      "Element types and occurrence of DisneyWorldOpenMap.xml:\n",
      "\n",
      "[('nd', 328364),\n",
      " ('node', 251927),\n",
      " ('tag', 70499),\n",
      " ('way', 21928),\n",
      " ('member', 10790),\n",
      " ('relation', 679),\n",
      " ('osm', 1),\n",
      " ('note', 1),\n",
      " ('meta', 1),\n",
      " ('bounds', 1)]\n",
      "\n",
      "--- 2.9701240062713623 seconds ---\n"
     ]
    }
   ],
   "source": [
    "osm_filename = \"./DisneyWorldOpenMap.xml\"\n",
    "\n",
    "def count_tags(filename):\n",
    "    tags = {}\n",
    "    for event, elem in ET.iterparse(filename, events=('start', )):\n",
    "        if elem.tag not in tags:\n",
    "            tags[elem.tag] = 1\n",
    "        else:\n",
    "            tags[elem.tag] += 1\n",
    "    return tags\n",
    "\n",
    "start_time = time.time()\n",
    "tags = count_tags(osm_filename)\n",
    "sorted_by_occurrence = [(k, v) for (v, k) in sorted([(value, key) for (key, value) in tags.items()], reverse=True)]\n",
    "\n",
    "print('Element types and occurrence of DisneyWorldOpenMap.xml:\\n')\n",
    "pprint.pprint(sorted_by_occurrence)\n",
    "\n",
    "print('\\n--- %s seconds ---' % (time.time() - start_time))"
   ]
  },
  {
   "cell_type": "code",
   "execution_count": 8,
   "metadata": {
    "collapsed": false
   },
   "outputs": [
    {
     "name": "stdout",
     "output_type": "stream",
     "text": [
      "Attributes and occurrence of DisneyWorldOpenMap.xml:\n",
      "\n",
      "[('ref', 339154),\n",
      " ('version', 274535),\n",
      " ('user', 274534),\n",
      " ('uid', 274534),\n",
      " ('timestamp', 274534),\n",
      " ('id', 274534),\n",
      " ('changeset', 274534),\n",
      " ('lon', 251927),\n",
      " ('lat', 251927),\n",
      " ('v', 70499),\n",
      " ('k', 70499),\n",
      " ('type', 10790),\n",
      " ('role', 10790),\n",
      " ('osm_base', 1),\n",
      " ('minlon', 1),\n",
      " ('minlat', 1),\n",
      " ('maxlon', 1),\n",
      " ('maxlat', 1),\n",
      " ('generator', 1)]\n",
      "\n",
      "--- 3.3659424781799316 seconds ---\n"
     ]
    }
   ],
   "source": [
    "def count_attrs(filename):\n",
    "    attrs = {}\n",
    "    for event, elem in ET.iterparse(filename, events=('start', 'end')):\n",
    "        if event == 'end':\n",
    "            for attr in elem.attrib:\n",
    "                if attr not in attrs:\n",
    "                    attrs[attr] = 1\n",
    "                else:\n",
    "                    attrs[attr] += 1\n",
    "    return attrs\n",
    "\n",
    "start_time = time.time()\n",
    "attrs = count_attrs(osm_filename)\n",
    "sorted_by_occurrence = [(k, v) for (v, k) in sorted([(value, key) for (key, value) in attrs.items()], reverse=True)]\n",
    "\n",
    "print('Attributes and occurrence of DisneyWorldOpenMap.xml:\\n')\n",
    "pprint.pprint(sorted_by_occurrence)\n",
    "\n",
    "print('\\n--- %s seconds ---' % (time.time() - start_time))"
   ]
  },
  {
   "cell_type": "code",
   "execution_count": 9,
   "metadata": {
    "collapsed": true
   },
   "outputs": [],
   "source": [
    "lower = re.compile(r'^([a-z]|_)*$')\n",
    "lower_colon = re.compile(r'^([a-z]|_)*:([a-z]|_)*$')\n",
    "lower_dot = re.compile(r'^([a-z]|_)*.([a-z]|_)*$')\n",
    "\n",
    "\n",
    "def key_type(element, keys):\n",
    "    if element.tag == \"tag\":\n",
    "        \n",
    "        if lower.search(element.attrib['k']):\n",
    "            keys['lower'] += 1\n",
    "        elif lower_colon.search(element.attrib['k']):\n",
    "            keys['lower_colon'] += 1\n",
    "        elif lower_dot.search(element.attrib['k']):\n",
    "            keys['lower_dot'] += 1\n",
    "        else:\n",
    "            keys['other'] += 1\n",
    "        \n",
    "    return keys\n",
    "\n",
    "\n",
    "def process_map(filename):\n",
    "    keys = {\"lower\": 0, \"lower_colon\": 0, \"lower_dot\": 0, \"other\": 0}\n",
    "    for _, element in ET.iterparse(filename):\n",
    "        keys = key_type(element, keys)\n",
    "\n",
    "    return keys"
   ]
  },
  {
   "cell_type": "code",
   "execution_count": 11,
   "metadata": {
    "collapsed": false
   },
   "outputs": [
    {
     "name": "stdout",
     "output_type": "stream",
     "text": [
      "Key types and occurrence in DisneyWorldOpenMap.xml:\n",
      "{'lower': 64452, 'lower_colon': 4658, 'lower_dot': 5, 'other': 1384}\n",
      "\n",
      "--- 3.032944917678833 seconds ---\n"
     ]
    }
   ],
   "source": [
    "\n",
    "start_time = time.time()\n",
    "keys = process_map(osm_filename)\n",
    "\n",
    "print('Key types and occurrence in DisneyWorldOpenMap.xml:')\n",
    "pprint.pprint(keys)\n",
    "\n",
    "print('\\n--- %s seconds ---' % (time.time() - start_time))"
   ]
  },
  {
   "cell_type": "code",
   "execution_count": null,
   "metadata": {
    "collapsed": true
   },
   "outputs": [],
   "source": []
  }
 ],
 "metadata": {
  "kernelspec": {
   "display_name": "Python 3",
   "language": "python",
   "name": "python3"
  },
  "language_info": {
   "codemirror_mode": {
    "name": "ipython",
    "version": 3
   },
   "file_extension": ".py",
   "mimetype": "text/x-python",
   "name": "python",
   "nbconvert_exporter": "python",
   "pygments_lexer": "ipython3",
   "version": "3.6.0"
  }
 },
 "nbformat": 4,
 "nbformat_minor": 2
}
