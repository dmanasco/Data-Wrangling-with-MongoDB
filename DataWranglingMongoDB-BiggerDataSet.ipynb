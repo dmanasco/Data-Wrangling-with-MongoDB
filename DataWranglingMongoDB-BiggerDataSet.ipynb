{
 "cells": [
  {
   "cell_type": "markdown",
   "metadata": {},
   "source": [
    "# Final Project - Data Wrangling with MongoDB\n",
    "\n",
    "## Exploring the Open Street Maps Data for Disney World\n",
    "\n",
    "For this project I will be exploring the data from the Open Street Maps database.\n",
    "The file is provided in an XML format.\n",
    "\n",
    "The Area I have chosen is around Disney World in Orlando, Fl. \n",
    "The data was downloaded from https://www.openstreetmap.org/export#map=13/28.3826/-81.5303\n",
    "\n",
    "The size of my uncompressed osm file is 102 MB"
   ]
  },
  {
   "cell_type": "code",
   "execution_count": 22,
   "metadata": {
    "collapsed": false
   },
   "outputs": [],
   "source": [
    "#!/usr/bin/env python\n",
    "# -*- coding: utf-8 -*-\n",
    "\n",
    "import xml.etree.cElementTree as ET\n",
    "import pprint\n",
    "import re\n",
    "import codecs\n",
    "import json\n",
    "from collections import defaultdict\n",
    "import pandas as pd\n",
    "\n",
    "\n",
    "FILE = './DisneyWorld.osm'"
   ]
  },
  {
   "cell_type": "code",
   "execution_count": 34,
   "metadata": {
    "collapsed": false
   },
   "outputs": [],
   "source": [
    "lower = re.compile(r'^([a-z]|_)*$')\n",
    "lower_colon = re.compile(r'^([a-z]|_)*:([a-z]|_)*$')\n",
    "problemchars = re.compile(r'[=\\+/&<>;\\'\"\\?%#$@\\,\\.\\t\\r\\n]')\n",
    "lower_dot = re.compile(r'^([a-z]|_)*.([a-z]|_)*$')\n",
    "numbers_only = re.compile('[^0-9]')\n",
    "street_type_re = re.compile(r'\\b\\S+\\.?$', re.IGNORECASE)\n",
    "phonechars = re.compile(r'[(+).\\-\\. ]')\n",
    "\n",
    "CREATED = [ \"version\", \"changeset\", \"timestamp\", \"user\", \"uid\"]"
   ]
  },
  {
   "cell_type": "markdown",
   "metadata": {},
   "source": [
    "# Examing the Data\n",
    "\n",
    "## Problem Areas\n",
    "\n",
    "Now we will begin going though the dataset to find potential problems with that data.\n",
    "\n",
    "\n",
    "### Problem 1 - NonPrintable Chars in User Names\n",
    "While trying to get a count of submitters I noticed that some users had unicode char in them. Notable \"ó\" in user 'Diógenes de Sinope'. I decided the best method of dealing with no printable chars was to remove them from the name and replace it with a ?. \n",
    "I did this with the remove_non_ascii function. The function is called as part of the count_submitters function. The count_submitters iterates through the data looking for 'user' field in the node tag."
   ]
  },
  {
   "cell_type": "code",
   "execution_count": 3,
   "metadata": {
    "collapsed": false
   },
   "outputs": [],
   "source": [
    "#this dataset has users that have char outside of ASCII char set.\n",
    "#Replacing non printable chars with a ?\n",
    "def remove_non_ascii(text):\n",
    "    return re.sub(r'[^\\x00-\\x7F]+','?', text)"
   ]
  },
  {
   "cell_type": "code",
   "execution_count": 4,
   "metadata": {
    "collapsed": false
   },
   "outputs": [],
   "source": [
    "def count_submitters(filename):\n",
    "    users = {}\n",
    "    for event, elem in ET.iterparse(filename, events=('start', )):\n",
    "        #checks if user is in the attrib list for the element\n",
    "        if 'user' in elem.attrib:\n",
    "            #replaces non printable chars with ?\n",
    "            user = remove_non_ascii(elem.attrib['user'])\n",
    "            if user not in users:\n",
    "                users[user] = 1\n",
    "            else:\n",
    "                users[user] += 1\n",
    "    return users"
   ]
  },
  {
   "cell_type": "code",
   "execution_count": 5,
   "metadata": {
    "collapsed": false
   },
   "outputs": [
    {
     "data": {
      "text/html": [
       "<div>\n",
       "<table border=\"1\" class=\"dataframe\">\n",
       "  <thead>\n",
       "    <tr style=\"text-align: right;\">\n",
       "      <th></th>\n",
       "      <th>Count</th>\n",
       "    </tr>\n",
       "  </thead>\n",
       "  <tbody>\n",
       "    <tr>\n",
       "      <th>Brian@Brea</th>\n",
       "      <td>105299</td>\n",
       "    </tr>\n",
       "    <tr>\n",
       "      <th>NE2</th>\n",
       "      <td>82904</td>\n",
       "    </tr>\n",
       "    <tr>\n",
       "      <th>3yoda</th>\n",
       "      <td>74164</td>\n",
       "    </tr>\n",
       "    <tr>\n",
       "      <th>Mongo Poker</th>\n",
       "      <td>52738</td>\n",
       "    </tr>\n",
       "    <tr>\n",
       "      <th>Di?genes de Sinope</th>\n",
       "      <td>27023</td>\n",
       "    </tr>\n",
       "    <tr>\n",
       "      <th>epcotfan</th>\n",
       "      <td>24093</td>\n",
       "    </tr>\n",
       "    <tr>\n",
       "      <th>KindredCoda</th>\n",
       "      <td>15541</td>\n",
       "    </tr>\n",
       "    <tr>\n",
       "      <th>RobChafer</th>\n",
       "      <td>14662</td>\n",
       "    </tr>\n",
       "    <tr>\n",
       "      <th>Adam Martin</th>\n",
       "      <td>12621</td>\n",
       "    </tr>\n",
       "    <tr>\n",
       "      <th>Gulopine</th>\n",
       "      <td>11857</td>\n",
       "    </tr>\n",
       "  </tbody>\n",
       "</table>\n",
       "</div>"
      ],
      "text/plain": [
       "                     Count\n",
       "Brian@Brea          105299\n",
       "NE2                  82904\n",
       "3yoda                74164\n",
       "Mongo Poker          52738\n",
       "Di?genes de Sinope   27023\n",
       "epcotfan             24093\n",
       "KindredCoda          15541\n",
       "RobChafer            14662\n",
       "Adam Martin          12621\n",
       "Gulopine             11857"
      ]
     },
     "execution_count": 5,
     "metadata": {},
     "output_type": "execute_result"
    }
   ],
   "source": [
    "submitter = count_submitters(FILE)\n",
    "submitterDF = pd.Series(submitter).to_frame()\n",
    "submitterDF.columns = ['Count']\n",
    "submitterDF.sort_values('Count', ascending = False).head(10)"
   ]
  },
  {
   "cell_type": "markdown",
   "metadata": {},
   "source": [
    "### Problem 2 - Postcodes of Different Formats and Incorrect Information\n",
    "\n",
    "While trying to determine the zipcodes of my dataset, I noticed that some information was incorrect or not correctly formated.\n",
    "I crafted a function that would Count the number of zipcodes in the file as well as clean them up so they are all uniform 5 chars in length. I also noticed 4 zipcodes that were in other areas of the city, so I actually submitted corrections to the OSM website correcting those issues. I then redownloaded the problem area with the correct changes. This leaves us with 9 distinct postcodes."
   ]
  },
  {
   "cell_type": "code",
   "execution_count": 6,
   "metadata": {
    "collapsed": true
   },
   "outputs": [],
   "source": [
    "def count_postcodes(filename):\n",
    "    postcodes = {}\n",
    "    for event, elem in ET.iterparse(filename, events=('start', 'end')):\n",
    "        if event == 'end':\n",
    "            key = elem.attrib.get('k')\n",
    "            if key == 'addr:postcode':\n",
    "                postcode = clean_postcodes(elem.attrib.get('v'))\n",
    "                if postcode[:5] not in postcodes:\n",
    "                    postcodes[postcode[:5]] = 1\n",
    "                else:\n",
    "                    postcodes[postcode[:5]] += 1\n",
    "    return postcodes"
   ]
  },
  {
   "cell_type": "code",
   "execution_count": 7,
   "metadata": {
    "collapsed": true
   },
   "outputs": [],
   "source": [
    "def clean_postcodes(zip):\n",
    "    zip = numbers_only.sub('', zip)\n",
    "    if len(zip) == 5:\n",
    "        return zip\n",
    "    else:\n",
    "        return zip[:5]"
   ]
  },
  {
   "cell_type": "code",
   "execution_count": 8,
   "metadata": {
    "collapsed": false
   },
   "outputs": [
    {
     "data": {
      "text/html": [
       "<div>\n",
       "<table border=\"1\" class=\"dataframe\">\n",
       "  <thead>\n",
       "    <tr style=\"text-align: right;\">\n",
       "      <th></th>\n",
       "      <th>Count</th>\n",
       "    </tr>\n",
       "  </thead>\n",
       "  <tbody>\n",
       "    <tr>\n",
       "      <th>34746</th>\n",
       "      <td>95</td>\n",
       "    </tr>\n",
       "    <tr>\n",
       "      <th>34747</th>\n",
       "      <td>80</td>\n",
       "    </tr>\n",
       "    <tr>\n",
       "      <th>32837</th>\n",
       "      <td>66</td>\n",
       "    </tr>\n",
       "    <tr>\n",
       "      <th>32836</th>\n",
       "      <td>53</td>\n",
       "    </tr>\n",
       "    <tr>\n",
       "      <th>32821</th>\n",
       "      <td>48</td>\n",
       "    </tr>\n",
       "    <tr>\n",
       "      <th>34786</th>\n",
       "      <td>45</td>\n",
       "    </tr>\n",
       "    <tr>\n",
       "      <th>32830</th>\n",
       "      <td>43</td>\n",
       "    </tr>\n",
       "    <tr>\n",
       "      <th>32819</th>\n",
       "      <td>16</td>\n",
       "    </tr>\n",
       "    <tr>\n",
       "      <th>34741</th>\n",
       "      <td>5</td>\n",
       "    </tr>\n",
       "  </tbody>\n",
       "</table>\n",
       "</div>"
      ],
      "text/plain": [
       "       Count\n",
       "34746     95\n",
       "34747     80\n",
       "32837     66\n",
       "32836     53\n",
       "32821     48\n",
       "34786     45\n",
       "32830     43\n",
       "32819     16\n",
       "34741      5"
      ]
     },
     "execution_count": 8,
     "metadata": {},
     "output_type": "execute_result"
    }
   ],
   "source": [
    "postcodes = count_postcodes(FILE)\n",
    "postcodesDF = pd.Series(postcodes).to_frame()\n",
    "postcodesDF.columns = ['Count']\n",
    "postcodesDF.sort_values('Count', ascending = False)"
   ]
  },
  {
   "cell_type": "markdown",
   "metadata": {},
   "source": [
    "### Problem 3 - Street Name Inconsistencies\n",
    "\n",
    "The next problem to focus my attention on would be creating a method from cleaning up the street name and ensuring that clean correct data is returned to be put into the database"
   ]
  },
  {
   "cell_type": "code",
   "execution_count": 9,
   "metadata": {
    "collapsed": true
   },
   "outputs": [],
   "source": [
    "mapping = { \"St\": \"Street\",\"St.\": \"Street\",\"Ave\" : \"Avenue\",\"Ave.\" : \"Avenue\",\"Blvd\" : \"Boulevard\",\"Blvd.\" : \"Boulevard\",\n",
    "            \"Dr\" : \"Drive\",\"Dr.\" : \"Drive\",\"Ct\" : \"Court\",\"Ct.\" : \"Court\",\"Pl\" : \"Place\",\"Pl.\" : \"Place\",\"Sq\" : \"Square\",\n",
    "            \"Sq.\" : \"Square\",\"Ln\" : \"Lane\",\"Ln.\" : \"Lane\",\"Rd\" : \"Road\",\"Rd.\" : \"Road\",\"Tr\" : \"Trail\",\"Tr.\" : \"Trail\",\n",
    "            \"Pkwy\" : \"Parkway\",\"Pkwy.\" : \"Parkway\",\"Cmns\" : \"Commons\",\"Cmns.\" : \"Commons\",\"N.\" : \"North\",\"N\" : \"North\",\n",
    "            \"W.\" : \"West\",\"W\" : \"West\",\"S.\" : \"South\",\"S\" : \"South\",\"E.\" : \"East\",\"E\" : \"East\" }\n",
    "expected = [\"Street\", \"Avenue\", \"Boulevard\", \"Drive\", \"Court\", \"Place\", \"Square\", \"Lane\", \"Road\", \n",
    "            \"Trail\", \"Parkway\", \"Commons\", \"Way\", \"Stars\",\"Circle\", \"Cove\", \"Highway\"]"
   ]
  },
  {
   "cell_type": "code",
   "execution_count": 10,
   "metadata": {
    "collapsed": true
   },
   "outputs": [],
   "source": [
    "def audit_street_type(street_types, street_name):\n",
    "    m = street_type_re.search(street_name)\n",
    "    if m:\n",
    "        street_type = m.group()\n",
    "        if street_type not in expected:\n",
    "            street_types[street_type].add(street_name)\n",
    "\n",
    "\n",
    "def is_street_name(elem):\n",
    "    return (elem.attrib['k'] == \"addr:street\")\n",
    "\n",
    "\n",
    "def audit(osmfile):\n",
    "    osm_file = open(osmfile, \"r\", errors=\"ignore\")\n",
    "    street_types = defaultdict(set)\n",
    "    for event, elem in ET.iterparse(osm_file, events=(\"start\",)):\n",
    "        if elem.tag == \"node\" or elem.tag == \"way\":\n",
    "            for tag in elem.iter(\"tag\"):\n",
    "                if is_street_name(tag):\n",
    "                    audit_street_type(street_types, tag.attrib['v'])\n",
    "    osm_file.close()\n",
    "    return street_types\n",
    "\n",
    "\n",
    "def update_name(name, mapping):\n",
    "    nameArr = name.split(\" \")\n",
    "    for i in range(len(nameArr)):\n",
    "        if nameArr[i] in mapping:\n",
    "            nameArr[i] = mapping[nameArr[i]]\n",
    "    name = \" \".join(nameArr)\n",
    "    return name"
   ]
  },
  {
   "cell_type": "code",
   "execution_count": 11,
   "metadata": {
    "collapsed": false
   },
   "outputs": [],
   "source": [
    "def check_names():\n",
    "    st_types = audit(FILE)\n",
    "    #pprint.pprint(dict(st_types))\n",
    "    for st_type, ways in st_types.items():\n",
    "        for name in ways:\n",
    "            better_name = update_name(name, mapping)\n",
    "            print(name, \"=>\", better_name)\n"
   ]
  },
  {
   "cell_type": "code",
   "execution_count": 12,
   "metadata": {
    "collapsed": false
   },
   "outputs": [
    {
     "name": "stdout",
     "output_type": "stream",
     "text": [
      "Broadway => Broadway\n",
      "N John Young Pkwy => North John Young Parkway\n",
      "Kyng's Heath Rd => Kyng's Heath Road\n",
      "Rolling Oaks Blvd. => Rolling Oaks Boulevard\n",
      "World Center Dr => World Center Drive\n",
      "World Cennter Dr. => World Cennter Drive\n",
      "Equestrian Dr. => Equestrian Drive\n",
      "International Drive South => International Drive South\n",
      "Celebration Blvd => Celebration Boulevard\n",
      "Formosa Gardens Blvd => Formosa Gardens Boulevard\n",
      "WorldQuest Blvd => WorldQuest Boulevard\n",
      "Towne Center Blvd => Towne Center Boulevard\n",
      "Polynesian Isle Blvd => Polynesian Isle Boulevard\n",
      "Archfeld Blvd => Archfeld Boulevard\n",
      "Rolling Oaks Blvd => Rolling Oaks Boulevard\n",
      "Shiva Loop => Shiva Loop\n",
      "State Rd 535 => State Road 535\n",
      "State Road 535 => State Road 535\n"
     ]
    }
   ],
   "source": [
    "check_names()"
   ]
  },
  {
   "cell_type": "code",
   "execution_count": 13,
   "metadata": {
    "collapsed": false
   },
   "outputs": [],
   "source": [
    "def audit_street_num(osmfile):\n",
    "    osm_file = open(osmfile, \"r\", errors=\"ignore\")\n",
    "    street_num = []\n",
    "    for event, elem in ET.iterparse(osm_file, events=(\"start\",)):\n",
    "        if elem.tag == \"node\" or elem.tag == \"way\":\n",
    "            for tag in elem.iter(\"tag\"):\n",
    "                if is_street_number(tag):\n",
    "                    if bool(re.search(r'[aA-zZ]', tag.attrib['v'])):\n",
    "                        if tag.attrib['v'] not in street_num:\n",
    "                            street_num.append(tag.attrib['v'])\n",
    "    osm_file.close()\n",
    "    return street_num\n",
    "\n",
    "def is_street_number(elem):\n",
    "    return (elem.attrib['k'] == \"addr:housenumber\")\n"
   ]
  },
  {
   "cell_type": "code",
   "execution_count": 15,
   "metadata": {
    "collapsed": false
   },
   "outputs": [
    {
     "name": "stdout",
     "output_type": "stream",
     "text": [
      "[]\n"
     ]
    }
   ],
   "source": [
    "street_nums = audit_street_num(FILE)\n",
    "print(street_nums)"
   ]
  },
  {
   "cell_type": "markdown",
   "metadata": {
    "collapsed": true
   },
   "source": [
    "Now that we have an empty array returned, we are sure that there are no incorrect housenumbers."
   ]
  },
  {
   "cell_type": "code",
   "execution_count": 30,
   "metadata": {
    "collapsed": false
   },
   "outputs": [
    {
     "name": "stdout",
     "output_type": "stream",
     "text": [
      "['Orlando', 'Lake Buena Vista', 'Celebration', 'Kissimmee', 'Windermere', 'Lake Buena Vista,', 'Bay Lake']\n"
     ]
    }
   ],
   "source": [
    "def print_values(osmfile, value):\n",
    "    osm_file = open(osmfile, \"r\", errors=\"ignore\")\n",
    "    street_types = []\n",
    "    for event, elem in ET.iterparse(osm_file, events=(\"start\",)):\n",
    "        if elem.tag == \"node\" or elem.tag == \"way\":\n",
    "            for tag in elem.iter(\"tag\"):\n",
    "                if tag.attrib['k'] == value:\n",
    "                    if tag.attrib['v'] not in street_types:\n",
    "                        street_types.append(tag.attrib['v'])\n",
    "    osm_file.close()\n",
    "    return street_types\n",
    "\n",
    "print(print_values(FILE, 'addr:city'))"
   ]
  },
  {
   "cell_type": "markdown",
   "metadata": {},
   "source": [
    "From this we can also see that we have some cities that need to be cleaned up as well. Specifically the one with the comma. We can send the values through the problem_char re to clean them up."
   ]
  },
  {
   "cell_type": "code",
   "execution_count": 37,
   "metadata": {
    "collapsed": false
   },
   "outputs": [
    {
     "name": "stdout",
     "output_type": "stream",
     "text": [
      "['Orlando', 'Lake Buena Vista', 'Celebration', 'Kissimmee', 'Windermere', 'Bay Lake']\n"
     ]
    }
   ],
   "source": [
    "def clean_values(osmfile, value):\n",
    "    osm_file = open(osmfile, \"r\", errors=\"ignore\")\n",
    "    street_types = []\n",
    "    for event, elem in ET.iterparse(osm_file, events=(\"start\",)):\n",
    "        if elem.tag == \"node\" or elem.tag == \"way\":\n",
    "            for tag in elem.iter(\"tag\"):\n",
    "                if tag.attrib['k'] == value:\n",
    "                    city = problemchars.sub(\"\", tag.attrib['v'])\n",
    "                    if city not in street_types:\n",
    "                        street_types.append(city)\n",
    "    osm_file.close()\n",
    "    return street_types\n",
    "\n",
    "print(clean_values(FILE, 'addr:city'))"
   ]
  },
  {
   "cell_type": "markdown",
   "metadata": {},
   "source": [
    "From this we can see that the easist way to normalize the cities is to use the problemchar regex and remove all charecters that match to it. We now have 6 distinct cities for the area."
   ]
  },
  {
   "cell_type": "markdown",
   "metadata": {},
   "source": [
    "# Problem 4 - Phone Number Issues\n",
    "The next problem to focus my attention on would be the different phone numbers stored in the database. I will craft a function that will identify problem telephone numbers."
   ]
  },
  {
   "cell_type": "code",
   "execution_count": 16,
   "metadata": {
    "collapsed": false
   },
   "outputs": [],
   "source": [
    "def audit_phone(osmfile, replace):\n",
    "    osm_file = open(osmfile, \"r\", errors=\"ignore\")\n",
    "    phone_num = []\n",
    "    for event, elem in ET.iterparse(osm_file, events=(\"start\",)):\n",
    "        if elem.tag == \"node\" or elem.tag == \"way\":\n",
    "            for tag in elem.iter(\"tag\"):\n",
    "                if is_phone_number(tag):\n",
    "                    newphone = clean_phone(tag.attrib['v'], replace)\n",
    "                    if bool(re.search(r'[aA-zZ]', newphone)):\n",
    "                        if newphone not in phone_num:\n",
    "                            phone_num.append(newphone)\n",
    "    osm_file.close()\n",
    "    return phone_num\n",
    "\n",
    "def is_phone_number(elem):\n",
    "    return (elem.attrib['k'] == \"phone\")\n",
    "\n",
    "def clean_phone(phone, char_replace):\n",
    "    phone = phonechars.sub(\"\",phone)\n",
    "    if char_replace:\n",
    "        if bool(re.search(r'[aA-zZ]', phone)):\n",
    "            return replace_chars(phone)\n",
    "    if phone.startswith('1'):\n",
    "        return phone[1:]\n",
    "    if phone.startswith('01'):\n",
    "        return phone[2:]\n",
    "    return phone"
   ]
  },
  {
   "cell_type": "code",
   "execution_count": 17,
   "metadata": {
    "collapsed": false
   },
   "outputs": [
    {
     "name": "stdout",
     "output_type": "stream",
     "text": [
      "['407WDWPLAY', '407WDWCREW']\n"
     ]
    }
   ],
   "source": [
    "phone_nums = audit_phone(FILE, False)\n",
    "print(phone_nums)"
   ]
  },
  {
   "cell_type": "code",
   "execution_count": 18,
   "metadata": {
    "collapsed": true
   },
   "outputs": [],
   "source": [
    "#So we have some phone numbers that have Char in them. Need to convert to numbers\n",
    "def replace_chars(phone):\n",
    "    try:\n",
    "        translationdict = str.maketrans(\"abcdefghijklmnopqrstuvwxyz\",\"22233344455566677778889999\")\n",
    "    except AttributeError:\n",
    "        import string\n",
    "        translationdict = string.maketrans(\"abcdefghijklmnopqrstuvwxyz\",\"22233344455566677778889999\")\n",
    "\n",
    "    correct_phone = phone.lower().translate(translationdict)\n",
    "    return correct_phone"
   ]
  },
  {
   "cell_type": "code",
   "execution_count": 19,
   "metadata": {
    "collapsed": false
   },
   "outputs": [
    {
     "name": "stdout",
     "output_type": "stream",
     "text": [
      "[]\n"
     ]
    }
   ],
   "source": [
    "#we call the same function with a true parameter now\n",
    "#it will replace the letters in the phonenumber with the corresponding digit.\n",
    "phone_nums = audit_phone(FILE, True)\n",
    "print(phone_nums)"
   ]
  },
  {
   "cell_type": "markdown",
   "metadata": {},
   "source": [
    "Now that the phone numbers are cleaned up this means that the data should be ready to be shaped and proccesed"
   ]
  },
  {
   "cell_type": "code",
   "execution_count": 20,
   "metadata": {
    "collapsed": true
   },
   "outputs": [],
   "source": [
    "def count_tags(filename):\n",
    "    tags = {}\n",
    "    for event, elem in ET.iterparse(filename, events=('start', )):\n",
    "        if elem.tag not in tags:\n",
    "            tags[elem.tag] = 1\n",
    "        else:\n",
    "            tags[elem.tag] += 1\n",
    "    return tags"
   ]
  },
  {
   "cell_type": "code",
   "execution_count": 21,
   "metadata": {
    "collapsed": true
   },
   "outputs": [],
   "source": [
    "def count_keys(filename):\n",
    "    keys = {}\n",
    "    for event, elem in ET.iterparse(filename, events=('start', 'end')):\n",
    "        if event == 'end':\n",
    "            key = elem.attrib.get('k')\n",
    "            if key:\n",
    "                if key not in keys:\n",
    "                    keys[key] = 1\n",
    "                else:\n",
    "                    keys[key] += 1\n",
    "    return keys"
   ]
  },
  {
   "cell_type": "markdown",
   "metadata": {},
   "source": [
    "# Converting to json\n",
    "\n",
    "Now that we have a plan of attack for how we will clean up the data while it is being import. We can begin by crafting the shape_element function. For this project we are only concerned with proccesing if it is a node or way. The shape element function takes the element object passed to it when it is called.  "
   ]
  },
  {
   "cell_type": "code",
   "execution_count": 190,
   "metadata": {
    "collapsed": false
   },
   "outputs": [],
   "source": [
    "def shape_element(element):\n",
    "    if element.tag == \"node\":\n",
    "        #creates a basic model for the data\n",
    "        node = {\n",
    "            \"id\": element.attrib['id'],\n",
    "            \"type\": \"node\",\n",
    "            \"pos\": None,\n",
    "            \"created\" : {\n",
    "                \"changeset\": None,\n",
    "                \"user\": None,\n",
    "                \"version\": None,\n",
    "                \"uid\": None,\n",
    "                \"timestamp\": None\n",
    "            }\n",
    "        }\n",
    "        #iterates through the fields of the CREATER array and adds the to the node\n",
    "        for i in CREATED:\n",
    "            if i == 'user':\n",
    "                node['created'].update({i : remove_non_ascii(element.attrib[i])})\n",
    "            else:\n",
    "                node['created'].update({i : element.attrib[i]})\n",
    "        node['pos'] = [str(float(element.attrib['lat'])), str(float(element.attrib['lon']))]\n",
    "        #Iterates through all the child elements of the main element. \n",
    "        for child in element:\n",
    "                #checks if the key is all lower case\n",
    "                if lower.search(child.attrib['k']):\n",
    "                    if child.attrib['k'] == 'phone':\n",
    "                        #if it is a phone number it calls the clean_phone function\n",
    "                        node[child.attrib['k']] = clean_phone(child.attrib['v'], True)\n",
    "                    else:\n",
    "                        node[child.attrib['k']] = child.attrib['v']\n",
    "                #splits the key on the ':' char and checks if the len is 2. if greater than 2 we ignore it.\n",
    "                elif len(child.attrib['k'].split(':')) == 2:\n",
    "                    arr = child.attrib['k'].split(':')\n",
    "                    if arr[0] == 'addr':\n",
    "                        if 'address' not in node:\n",
    "                            node['address'] = {}\n",
    "                        if arr[1] == 'street':\n",
    "                            #calls the update_name fuction which returns a cleaned up street address\n",
    "                            node['address'].update({arr[1] : update_name(child.attrib['v'], mapping)})\n",
    "                        elif arr[1] == 'state':\n",
    "                            #For state, if takes the first 2 char of the word and returns them upper. ie FL\n",
    "                            node['address'].update({arr[1] : child.attrib['v'][:2].upper()})\n",
    "                        elif arr[1] == 'city':\n",
    "                            #removes the problem charecters in the value.\n",
    "                            node['address'].update({arr[1] : problemchars.sub(\"\", child.attrib['v'])})\n",
    "                        else:\n",
    "                            node['address'].update({arr[1] : child.attrib['v']})\n",
    "                    elif arr[0] == 'name':\n",
    "                        None\n",
    "                    else:\n",
    "                        node[child.attrib['k'].split(':')[0]] = {child.attrib['k'].split(':')[1] : child.attrib['v']}\n",
    "                elif problemchars.search(child.attrib['k']):\n",
    "                    None\n",
    "                else:\n",
    "                    None\n",
    "        return node\n",
    "    #Most of the same logic is there for this type of element. \n",
    "    elif element.tag == 'way':\n",
    "        node = {\n",
    "            \"id\" : element.attrib['id'],\n",
    "            \"type\": \"way\",\n",
    "            \"created\" : {\n",
    "                \"changeset\": None,\n",
    "                \"user\": None,\n",
    "                \"version\": None,\n",
    "                \"uid\": None,\n",
    "                \"timestamp\": None\n",
    "            }\n",
    "        }\n",
    "        for i in CREATED:\n",
    "            if i == 'user':\n",
    "                node['created'].update({i : remove_non_ascii(element.attrib[i])})\n",
    "            else:\n",
    "                node['created'].update({i : element.attrib[i]})\n",
    "        for child in element:\n",
    "            if child.tag == 'nd':\n",
    "                if 'node_refs' not in node:\n",
    "                    node['node_refs'] = []\n",
    "                node['node_refs'].append(child.attrib['ref'])\n",
    "            else:\n",
    "                if lower.search(child.attrib['k']):\n",
    "                    if child.attrib['k'] == 'phone':\n",
    "                        node[child.attrib['k']] = clean_phone(child.attrib['v'], True)\n",
    "                    else:\n",
    "                        node[child.attrib['k']] = child.attrib['v']\n",
    "                elif len(child.attrib['k'].split(':')) == 2:\n",
    "                    arr = child.attrib['k'].split(':')\n",
    "                    if arr[0] == 'addr':\n",
    "                        if 'address' not in node:\n",
    "                            node['address'] = {}\n",
    "                        if arr[1] == 'street':\n",
    "                            node['address'].update({arr[1] : update_name(child.attrib['v'], mapping)})\n",
    "                        elif arr[1] == 'state':\n",
    "                            node['address'].update({arr[1] : child.attrib['v'][:2].upper()})\n",
    "                        elif arr[1] == 'city':\n",
    "                            node['address'].update({arr[1] : problemchars.sub(\"\", child.attrib['v'])})\n",
    "                        else:\n",
    "                            node['address'].update({arr[1] : child.attrib['v']})\n",
    "                    elif arr[0] == 'name':\n",
    "                        None\n",
    "                    else:\n",
    "                        node[child.attrib['k'].split(':')[0]] = {child.attrib['k'].split(':')[1] : child.attrib['v']}\n",
    "                elif problemchars.search(child.attrib['k']):\n",
    "                    None\n",
    "                else:\n",
    "                    None\n",
    "        return node\n",
    "    else:\n",
    "        return None"
   ]
  },
  {
   "cell_type": "code",
   "execution_count": 191,
   "metadata": {
    "collapsed": true
   },
   "outputs": [],
   "source": [
    "def process_map(file_in, pretty):\n",
    "    # You do not need to change this file\n",
    "    file_out = \"{0}.json\".format(file_in)\n",
    "    data = []\n",
    "    number_to_process = 0\n",
    "    with codecs.open(file_out, \"w\") as fo:\n",
    "        for _, element in ET.iterparse(file_in):\n",
    "            el = shape_element(element)\n",
    "            if el:\n",
    "                data.append(el)\n",
    "                if pretty:\n",
    "                    fo.write(json.dumps(el, indent=2)+\"\\n\")\n",
    "                else:\n",
    "                    fo.write(json.dumps(el) + \"\\n\")\n",
    "    return print(\"Your File has been proccessed and exported as DisneyWorld.osm.json\")"
   ]
  },
  {
   "cell_type": "markdown",
   "metadata": {
    "collapsed": true
   },
   "source": [
    "Finally we can call the process_map function. This will work through the file and call the shape element for each element returned by the iterparse function out of the element tree. This must be called with pretty turned off. Pymongo is not set up to handle the pretty formet.\n"
   ]
  },
  {
   "cell_type": "code",
   "execution_count": 192,
   "metadata": {
    "collapsed": false
   },
   "outputs": [
    {
     "name": "stdout",
     "output_type": "stream",
     "text": [
      "Your File has been proccessed and exported as DisneyWorld.osm.json\n"
     ]
    }
   ],
   "source": [
    "process_map(FILE, False)"
   ]
  },
  {
   "cell_type": "markdown",
   "metadata": {
    "collapsed": true
   },
   "source": [
    "## Importing to MongoDB\n",
    "Now that we have the processed json file we can begin the process of importing it into MongoDB"
   ]
  },
  {
   "cell_type": "code",
   "execution_count": 208,
   "metadata": {
    "collapsed": false
   },
   "outputs": [],
   "source": [
    "import pymongo\n",
    "from pymongo import MongoClient\n",
    "\n",
    "def insert_line(line, db):\n",
    "    db.disneyworld.insert(line)\n",
    "\n",
    "def insert_to_mongodb(filename, db):\n",
    "    with open(filename) as f:\n",
    "        for line in f:\n",
    "            data = json.loads(line)\n",
    "            insert_line(data,db)"
   ]
  },
  {
   "cell_type": "code",
   "execution_count": 209,
   "metadata": {
    "collapsed": false
   },
   "outputs": [
    {
     "name": "stderr",
     "output_type": "stream",
     "text": [
      "/Users/davidmanasco/anaconda/lib/python3.5/site-packages/ipykernel/__main__.py:5: DeprecationWarning: insert is deprecated. Use insert_one or insert_many instead.\n"
     ]
    },
    {
     "name": "stdout",
     "output_type": "stream",
     "text": [
      "{'type': 'node', 'pos': ['28.4277676', '-81.4169626'], 'created': {'version': '3', 'user': 'Eckhart W?rner', 'uid': '2675', 'timestamp': '2015-02-12T18:57:22Z', 'changeset': '28802602'}, '_id': ObjectId('5a8b9af19ffbe50758192396'), 'id': '16580374'}\n"
     ]
    }
   ],
   "source": [
    "client = MongoClient(\"mongodb://localhost:27017\")\n",
    "client.drop_database(\"disneyworld\")\n",
    "db = client.disneyworld\n",
    "\n",
    "insert_to_mongodb(\"./DisneyWorld.osm.json\", db)\n",
    "print(db.disneyworld.find_one())"
   ]
  },
  {
   "cell_type": "code",
   "execution_count": 195,
   "metadata": {
    "collapsed": false
   },
   "outputs": [
    {
     "data": {
      "text/plain": [
       "514455"
      ]
     },
     "execution_count": 195,
     "metadata": {},
     "output_type": "execute_result"
    }
   ],
   "source": [
    "db.disneyworld.count()"
   ]
  },
  {
   "cell_type": "markdown",
   "metadata": {},
   "source": [
    "Looks like we have 514,455 records succesfully imported into the disneyworld database via pymongo."
   ]
  },
  {
   "cell_type": "code",
   "execution_count": 196,
   "metadata": {
    "collapsed": false
   },
   "outputs": [
    {
     "data": {
      "text/plain": [
       "470882"
      ]
     },
     "execution_count": 196,
     "metadata": {},
     "output_type": "execute_result"
    }
   ],
   "source": [
    "#count number of nodes\n",
    "db.disneyworld.find({'type':'node'}).count()"
   ]
  },
  {
   "cell_type": "code",
   "execution_count": 197,
   "metadata": {
    "collapsed": false
   },
   "outputs": [
    {
     "data": {
      "text/plain": [
       "43372"
      ]
     },
     "execution_count": 197,
     "metadata": {},
     "output_type": "execute_result"
    }
   ],
   "source": [
    "#count number of ways\n",
    "db.disneyworld.find({'type':'way'}).count()"
   ]
  },
  {
   "cell_type": "code",
   "execution_count": 198,
   "metadata": {
    "collapsed": false
   },
   "outputs": [
    {
     "data": {
      "text/plain": [
       "411"
      ]
     },
     "execution_count": 198,
     "metadata": {},
     "output_type": "execute_result"
    }
   ],
   "source": [
    "#number of unique contributers to the dataset\n",
    "len(db.disneyworld.distinct('created.user'))"
   ]
  },
  {
   "cell_type": "code",
   "execution_count": 214,
   "metadata": {
    "collapsed": false
   },
   "outputs": [
    {
     "name": "stdout",
     "output_type": "stream",
     "text": [
      "{'count': 105159, '_id': 'Brian@Brea'}\n",
      "{'count': 82623, '_id': 'NE2'}\n",
      "{'count': 74148, '_id': '3yoda'}\n",
      "{'count': 52343, '_id': 'Mongo Poker'}\n",
      "{'count': 27017, '_id': 'Di?genes de Sinope'}\n"
     ]
    }
   ],
   "source": [
    "#find top 5 users for the dataset\n",
    "top_user = db.disneyworld.aggregate([{\"$group\":{\"_id\":\"$created.user\", \"count\":{\"$sum\":1}}}, {\"$sort\":{\"count\":-1}}, {\"$limit\":5}])\n",
    "for line in top_user:\n",
    "    print(line)"
   ]
  },
  {
   "cell_type": "code",
   "execution_count": 229,
   "metadata": {
    "collapsed": false
   },
   "outputs": [
    {
     "name": "stdout",
     "output_type": "stream",
     "text": [
      "Percentage of items by top submitter (Brian@Brea) - 20.44%\n",
      "Percentage of top two sumbitters (Brian@Brea, NE2) - 36.50%\n",
      "Percentage of top five sumbitters - 66.34%\n"
     ]
    }
   ],
   "source": [
    "#find basic percentages of different types of users in the database\n",
    "print(\"Percentage of items by top submitter (Brian@Brea) - \"+\"{0:.2f}\".format(db.disneyworld.find({\"created.user\":\"Brian@Brea\"}).count()/db.disneyworld.count()*100)+\"%\")\n",
    "print(\"Percentage of top two sumbitters (Brian@Brea, NE2) - \"+\"{0:.2f}\".format(db.disneyworld.find({\"created.user\": { \"$in\" : [\"Brian@Brea\", \"NE2\"]}}).count()/db.disneyworld.count()*100)+\"%\")\n",
    "print(\"Percentage of top five sumbitters - \"+\"{0:.2f}\".format(db.disneyworld.find({\"created.user\": { \"$in\" : [\"Brian@Brea\", \"NE2\", \"3yoda\", \"Mongo Poker\", \"Di?genes de Sinope\"]}}).count()/db.disneyworld.count()*100)+\"%\")"
   ]
  },
  {
   "cell_type": "markdown",
   "metadata": {},
   "source": [
    "From the above query results, we can see that the top 5 contributors have over 66% of the total updates to the database. This tells me that ordinary users are not inclined to contribute to the database. It seems that leaving the majority of the data up to only 5 users can lead to data integrity issues, as well as a myriad of other problems, like multiple entries for the same thing."
   ]
  },
  {
   "cell_type": "code",
   "execution_count": 200,
   "metadata": {
    "collapsed": false
   },
   "outputs": [
    {
     "name": "stdout",
     "output_type": "stream",
     "text": [
      "{'operator': 'Disney Parks and Resorts', 'name': \"Disney's Animal Kingdom\"}\n",
      "{'operator': 'Disney Parks and Resorts', 'name': \"Disney's Blizzard Beach\"}\n",
      "{'operator': 'Disney Parks and Resorts', 'name': \"Disney's Hollywood Studios\"}\n",
      "{'operator': 'Disney Parks and Resorts', 'name': \"Disney's Typhoon Lagoon\"}\n",
      "{'operator': 'Disney Parks and Resorts', 'name': 'Epcot'}\n",
      "{'operator': 'Disney Parks and Resorts', 'name': 'Epcot'}\n",
      "{'operator': 'Disney Parks and Resorts', 'name': 'Magic Kingdom'}\n",
      "{'operator': 'Fun Spot America Theme Parks', 'name': 'Fun Spot America - Kissimmee'}\n",
      "{'operator': 'SeaWorld Parks & Entertainment', 'name': 'SeaWorld Orlando'}\n",
      "{'operator': 'SeaWorld Parks and Entertainment', 'name': 'Aquatica'}\n",
      "{'operator': 'SeaWorld Parks and Entertainment', 'name': 'Discovery Cove'}\n"
     ]
    }
   ],
   "source": [
    "#find all theme_parks within the dataset\n",
    "themeParks = db.disneyworld.find({\"tourism\": \"theme_park\", \"name\" : {\"$exists\" : \"true\"}}, {\"name\": 1, \"operator\" : 1, \"_id\" : 0})\n",
    "themeParks = themeParks.sort([(\"operator\", 1), (\"name\", 1)])\n",
    "for row in themeParks:\n",
    "    print(row)"
   ]
  },
  {
   "cell_type": "code",
   "execution_count": 201,
   "metadata": {
    "collapsed": false
   },
   "outputs": [
    {
     "name": "stdout",
     "output_type": "stream",
     "text": [
      "{'name': 'Liberty Bell'}\n",
      "{'name': 'Fort Langhorn'}\n",
      "{'name': 'Elephants'}\n",
      "{'name': 'Elephants'}\n",
      "{'name': 'Flamingos'}\n",
      "{'name': 'Lions'}\n",
      "{'name': 'Hippos'}\n",
      "{'name': 'Hippos'}\n",
      "{'name': 'Nile Crocodiles'}\n",
      "{'name': 'Gorillas'}\n",
      "{'name': 'Gorillas'}\n",
      "{'name': 'Okapi'}\n",
      "{'name': 'Black Rhinoceros'}\n",
      "{'name': 'Aviary'}\n",
      "{'name': 'Bongo'}\n",
      "{'name': 'Maharajah Jungle Trek'}\n",
      "{'name': 'Reflections of China'}\n",
      "{'name': \"Harper's Mill\"}\n",
      "{'name': 'Gran Fiesta Tour Starring The Three Caballeros'}\n",
      "{'name': \"Ariel's Grotto\"}\n",
      "{'name': 'Storm Slides'}\n",
      "{'name': 'Humunga Kowabunga'}\n",
      "{'name': 'Keelhaul Falls'}\n",
      "{'name': 'Mayday Falls'}\n",
      "{'name': 'Gangplank Falls'}\n",
      "{'name': 'Ketchadiee Creek'}\n",
      "{'name': 'Bay Slides'}\n",
      "{'name': 'Castaway Creek'}\n",
      "{'name': 'Fantasmic!'}\n",
      "{'name': 'Character Spot'}\n",
      "{'name': 'Journey Into Imagination With Figment'}\n",
      "{'name': 'Imageworks: The \"What If\" Labs'}\n",
      "{'name': 'Living With The Land'}\n",
      "{'name': 'Turtle Talk with Crush'}\n",
      "{'name': 'United Kingdom Pavilion'}\n",
      "{'name': 'Canada Pavilion'}\n",
      "{'name': 'Morocco Pavilion'}\n",
      "{'name': 'Japan Pavilion'}\n",
      "{'name': 'Outpost'}\n",
      "{'name': 'China Pavilion'}\n",
      "{'name': 'Norway Pavilion'}\n",
      "{'name': 'Mexico Pavilion'}\n",
      "{'name': \"It's Tough to be a Bug!\"}\n",
      "{'name': 'Discovery Island Trails'}\n",
      "{'name': 'Fossil Fun Games'}\n",
      "{'name': \"Sitch's Alien Encounter!\"}\n",
      "{'name': 'Astro Orbiter'}\n",
      "{'name': 'Tomorrowland Transit Authority Peoplemover'}\n",
      "{'name': 'Fairytale Garden'}\n",
      "{'name': 'Italy Pavilion'}\n",
      "{'name': 'The American Adventure Pavilion'}\n",
      "{'name': 'Germany Pavilion'}\n",
      "{'name': 'France Pavilion'}\n",
      "{'name': 'Dolphin Lagoon'}\n",
      "{'name': \"Explorer's Aviary\"}\n",
      "{'name': 'Freshwater Oasis'}\n",
      "{'name': 'SeaVenture'}\n",
      "{'name': 'Serenity Bay'}\n",
      "{'name': 'The Grand Reef'}\n",
      "{'name': 'Wind-Away River'}\n",
      "{'name': 'Legends: A Haunting at Old Town'}\n",
      "{'name': \"Rootin & Tootan's Shooting Gallery\"}\n",
      "{'name': 'Sling Shot'}\n",
      "{'name': \"Kid's Trampoline Fun\"}\n",
      "{'name': 'Vomatron'}\n",
      "{'name': 'The Great Magic Hall'}\n",
      "{'name': 'Ride & Play Go Karts, Bumper Cars, & Lazer Tag'}\n",
      "{'name': 'Happy Days Family Fun Track'}\n",
      "{'name': 'Chocolate Kingdom'}\n",
      "{'name': 'Happy Days Lazer Tag'}\n",
      "{'name': 'Happy Days Bumper Cars'}\n",
      "{'name': 'Madame Tussauds'}\n",
      "{'name': 'Jewels of the Sea Aquarium'}\n",
      "{'name': 'Manta'}\n",
      "{'name': 'Kraken'}\n",
      "{'name': 'Antartica: Empire of the Penguin'}\n",
      "{'name': 'Hoopie-do-review'}\n",
      "{'name': 'Meet Mickey Mouse'}\n",
      "{'name': 'Sorcerers of the Magic Kingdom'}\n",
      "{'name': 'Tomorrowland Speedway'}\n",
      "{'name': 'Mad Tea Party'}\n",
      "{'name': 'Test Track'}\n",
      "{'name': 'Spaceship Earth'}\n",
      "{'name': 'The Disney-Pixar Short Film Festival'}\n",
      "{'name': 'Meet Disney Pals at Adventurers Outpost'}\n",
      "{'name': \"Dug & Russel's Wilderness Explorer Clubhouse\"}\n",
      "{'name': 'International drive 2'}\n",
      "{'name': 'Air Florida Helicopter Tours'}\n",
      "{'name': 'Skeletons: Animals Unveiled!'}\n",
      "{'name': 'aqui aterrizo el globo'}\n",
      "{'name': 'Skycoaster'}\n",
      "{'name': 'Surfs Up'}\n",
      "{'name': 'Frozen Ever After'}\n",
      "{'name': 'Tommy'}\n",
      "{'name': \"Na'vi River Journey\"}\n",
      "{'name': 'Avatar Flight of Passage'}\n",
      "{'name': 'Mission: SPACE Advanced Training Lab'}\n",
      "{'name': 'The Circle of Life: An Environmental Tale'}\n",
      "{'name': 'Tommy'}\n",
      "{'name': 'Star Wars: Secrets of the Empire'}\n",
      "{'name': 'Marketplace Train'}\n",
      "{'name': 'Marketplace Carousel'}\n",
      "{'name': 'Dare 2 Escape'}\n",
      "{'name': 'The Haunted Mansion'}\n",
      "{'name': 'Indiana Jones Epic Stunt Spectacular!'}\n",
      "{'name': 'Swiss Family Treehouse'}\n",
      "{'name': 'Wildlife Express Train'}\n",
      "{'name': 'The Magic Carpets of Aladdin'}\n",
      "{'name': 'Kilimanjaro Safaris'}\n",
      "{'name': \"Rafiki's Planet Watch\"}\n",
      "{'name': 'Winter-Summerland'}\n",
      "{'name': \"Agent P's World Showcase Adventure\"}\n",
      "{'name': \"Crush 'n' Gusher\"}\n",
      "{'name': 'Cinderella Castle'}\n",
      "{'name': \"Ripley's Believe It or Not!\"}\n",
      "{'name': 'Sleuths Mystery Dinner Show'}\n",
      "{'name': 'Aerophile'}\n",
      "{'name': 'Wildlife Express Train'}\n",
      "{'name': 'Liberty Square Riverboat Landing'}\n",
      "{'name': 'Country Bear Jamboree'}\n",
      "{'name': 'TriceraTop Spin'}\n",
      "{'name': 'Jungle Cruise'}\n",
      "{'name': \"A Pirate's Adventure ~ Treasures of the Seven Seas\"}\n",
      "{'name': \"Walt Disney's Enchanted Tiki Room\"}\n",
      "{'name': 'Theater of the Stars'}\n",
      "{'name': 'Disney Junior-Live On Stage'}\n",
      "{'name': \"Mickey and Minnie's Runaway Railway (2019)\"}\n",
      "{'name': 'Star Tours: The Adventures Continue'}\n",
      "{'name': \"Jim Henson's Muppet*Vision 3-D\"}\n",
      "{'name': 'Toy Story Midway Mania!'}\n",
      "{'name': 'Voyage of the Little Mermaid'}\n",
      "{'name': \"Disney's Fantasia Gardens Miniature Golf\"}\n",
      "{'name': \"Disney's Fantasia Fairways Miniature Golf\"}\n",
      "{'name': 'Project Tomorrow: Inventing the Wonders of the Future'}\n",
      "{'name': 'Innoventions East'}\n",
      "{'name': 'Mission: SPACE'}\n",
      "{'name': 'O Canada!'}\n",
      "{'name': 'The American Adventure'}\n",
      "{'name': 'Germany Pavilion'}\n",
      "{'name': 'The Oasis Exhibits'}\n",
      "{'name': 'Wilderness Explorers'}\n",
      "{'name': 'Harumbe Theatre'}\n",
      "{'name': 'Kali River Rapids'}\n",
      "{'name': 'Theater In The Wild'}\n",
      "{'name': 'The Boneyard'}\n",
      "{'name': 'DINOSAUR'}\n",
      "{'name': 'Primeval Whirl'}\n",
      "{'name': \"Rafts to Tom Sawyer's Island\"}\n",
      "{'name': \"Walt Disney's Carousel of Progress\"}\n",
      "{'name': 'Dumbo the Flying Elephant'}\n",
      "{'name': \"Casey Jr. Splash 'N' Soak Station\"}\n",
      "{'name': 'The Barnstormer'}\n",
      "{'name': \"Pete's Silly Sideshow\"}\n",
      "{'name': 'Under the Sea: Journey of the Little Mermaid'}\n",
      "{'name': 'Enchanted Tales with Belle'}\n",
      "{'name': 'The Many Adventures of Winnie the Pooh'}\n",
      "{'name': 'Princess Fairytale Hall'}\n",
      "{'name': 'Prince Charming Regal Carousel'}\n",
      "{'name': \"Mickey's PhillarMagic\"}\n",
      "{'name': \"Peter Pan's Flight\"}\n",
      "{'name': '\"it\\'s a small world\"'}\n",
      "{'name': 'The Hall of Presidents'}\n",
      "{'name': 'Seven Dwarfs Mine Train'}\n",
      "{'name': \"Buzz Lightyear's Space Ranger Spin\"}\n",
      "{'name': 'Monsters, Inc. Laugh Floor'}\n",
      "{'name': \"Frontierland Shootin' Arcade\"}\n",
      "{'name': 'Splash Mountain'}\n",
      "{'name': 'France Pavilion '}\n",
      "{'name': 'Impressions de France'}\n",
      "{'name': 'The Seas with Nemo & Friends'}\n",
      "{'name': 'Pirates of the Caribbean'}\n",
      "{'name': 'Bumper Cars'}\n",
      "{'name': 'Big Thunder Mountain Railroad'}\n",
      "{'name': 'Magic Eye Theater'}\n",
      "{'name': 'The Orlando Eye'}\n",
      "{'name': 'Turtle Trek'}\n",
      "{'name': 'Seven Seas Railway'}\n",
      "{'name': 'Spirit of Aloha'}\n",
      "{'name': \"Rock 'n' Roller Coaster Starring Aerosmith\"}\n",
      "{'name': 'Space Mountain'}\n",
      "{'name': 'Walt Disney Presents'}\n",
      "{'name': 'Arcade'}\n",
      "{'name': 'Vortex Track'}\n",
      "{'name': 'Chaos Track'}\n",
      "{'name': 'Slick Track'}\n",
      "{'name': 'Road Course'}\n",
      "{'name': 'Yo-Yo'}\n",
      "{'name': 'Paratrooper'}\n",
      "{'name': 'Flying Bobs'}\n",
      "{'name': 'Screaming Eagles'}\n",
      "{'name': 'Tilt A Whirl'}\n",
      "{'name': 'Rockstar Spinning Coaster'}\n",
      "{'name': 'Kiddie Coaster'}\n",
      "{'name': 'Screamer'}\n",
      "{'name': 'Hot Seat'}\n",
      "{'name': 'Water Feature'}\n",
      "{'name': 'Everglades'}\n",
      "{'name': 'Key West'}\n",
      "{'name': 'St. Augustine'}\n",
      "{'name': 'Frozen Royal Summerhus'}\n",
      "{'name': 'The Twilight Zone Tower of Terror'}\n",
      "{'name': 'International Heli-Tours South'}\n",
      "{'name': \"Capone's Dinner & Show\"}\n"
     ]
    }
   ],
   "source": [
    "#find all attractions within the dataset\n",
    "attractions = db.disneyworld.find({\"tourism\": \"attraction\", \"name\" : {\"$exists\" : \"true\"}}, {\"name\": 1, \"_id\":0})\n",
    "for row in attractions:\n",
    "    print(row)"
   ]
  },
  {
   "cell_type": "code",
   "execution_count": 202,
   "metadata": {
    "collapsed": false
   },
   "outputs": [
    {
     "name": "stdout",
     "output_type": "stream",
     "text": [
      "{'name': \"Rock 'n' Roller Coaster Starring Aerosmith\"}\n",
      "{'name': 'Space Mountain'}\n"
     ]
    }
   ],
   "source": [
    "#find rollercoasters in database\n",
    "rollerCoasters = db.disneyworld.find({\"tourism\" : \"attraction\", \"attraction\" : \"roller_coaster\"}, {\"name\" : 1, \"_id\": 0})\n",
    "for line in rollerCoasters:\n",
    "    print(line)"
   ]
  },
  {
   "cell_type": "code",
   "execution_count": 203,
   "metadata": {
    "collapsed": false
   },
   "outputs": [
    {
     "name": "stdout",
     "output_type": "stream",
     "text": [
      "{'name': 'Disney Riviera Resort'}\n",
      "{'name': 'Old Port Royale Renovation (2019)'}\n",
      "{'name': 'Disney Skyliner Caribbean Beach Station (2019)'}\n",
      "{'name': 'Disney Skyliner Epcot Station (2019)'}\n",
      "{'name': 'Parking Lot Expansion'}\n",
      "{'name': 'Star Wars Hotel-Coming Soon'}\n",
      "{'name': 'Guardians of the Galaxy Attraction-Coming Soon'}\n",
      "{'name': 'Toy Story Land (Summer 2018)'}\n",
      "{'name': 'Disney Skyliner Hollywood Studios Station (2019)'}\n",
      "{'name': \"Mickey and Minnie's Runaway Railway-2019\"}\n",
      "{'name': 'Wolfgang Puck Bar & Grill'}\n",
      "{'name': 'Jaleo by José Andrés'}\n",
      "{'name': 'NBA Experience'}\n",
      "{'name': 'Wine Bar George (2018)'}\n",
      "{'name': 'Third Parking Garage'}\n",
      "{'name': 'Ratatouille Attraction Coming Soon'}\n",
      "{'name': \"Star Wars Galaxy's Edge (2019)\"}\n"
     ]
    }
   ],
   "source": [
    "#find out what is under cunstruction in the database.\n",
    "underConstruction = db.disneyworld.find({\"landuse\" : \"construction\", \"name\" : { \"$exists\": \"true\", \"$ne\": \"null\" }}, {\"name\" : 1, \"_id\" : 0})\n",
    "for line in underConstruction:\n",
    "    print(line)"
   ]
  },
  {
   "cell_type": "code",
   "execution_count": 204,
   "metadata": {
    "collapsed": false
   },
   "outputs": [
    {
     "name": "stdout",
     "output_type": "stream",
     "text": [
      "{'name': 'Harmony Barber Shop'}\n",
      "{'name': 'The Plaza Restaurant'}\n",
      "{'name': 'Main Street Bakery'}\n",
      "{'name': \"Casey's Corner\"}\n",
      "{'name': 'Disney Clothiers'}\n",
      "{'name': 'Main Street Confectionery'}\n",
      "{'name': 'Main Street Gallery'}\n",
      "{'name': 'Uptown Jewelers'}\n",
      "{'name': 'Crystal Arts'}\n",
      "{'name': 'Plaza Ice Cream Parlor'}\n",
      "{'name': \"Tony's Town Square Restaurant\"}\n",
      "{'name': 'The Emporium'}\n"
     ]
    }
   ],
   "source": [
    "#find shops on Main Street in Magic Kingdom\n",
    "mainstreet = db.disneyworld.find({\"address.street\" : \"Main Street\", \"name\" : { \"$exists\": \"true\", \"$ne\": \"null\" }}, {\"name\": 1, \"_id\":0})\n",
    "for line in mainstreet:\n",
    "    print(line)"
   ]
  },
  {
   "cell_type": "code",
   "execution_count": 189,
   "metadata": {
    "collapsed": false
   },
   "outputs": [
    {
     "name": "stdout",
     "output_type": "stream",
     "text": [
      "{'name': 'Lotus Blossom Cafe'}\n",
      "{'name': 'Sleepy Hollow'}\n",
      "{'name': 'The Mara'}\n",
      "{'name': 'Cookes of Dublin'}\n",
      "{'name': 'Yorkshire County Fish Shop'}\n",
      "{'name': 'Sunshine Seasons'}\n",
      "{'name': \"McDonald's\"}\n",
      "{'name': 'KFC'}\n",
      "{'name': 'Tangierine Cafe'}\n",
      "{'name': 'Subway'}\n",
      "{'name': \"Dunkin' Donuts; Baskin-Robbins\"}\n",
      "{'name': \"Papa John's\"}\n",
      "{'name': \"McDonald's\"}\n",
      "{'name': 'Burger King'}\n",
      "{'name': \"Casey's Corner\"}\n",
      "{'name': \"Cici's Pizza\"}\n",
      "{'name': 'Subway'}\n",
      "{'name': 'Flippers Pizza'}\n",
      "{'name': 'Panera Bread'}\n",
      "{'name': 'Subway'}\n",
      "{'name': 'Firehouse Subs'}\n",
      "{'name': 'Little Caesars Pizza'}\n",
      "{'name': 'China King'}\n",
      "{'name': 'Chipotle'}\n",
      "{'name': \"Good's Food To Go\"}\n",
      "{'name': 'Sassagoula Floatworks & Food Factory'}\n",
      "{'name': 'Earl of Sandwich'}\n",
      "{'name': 'Wolfgang Puck Express'}\n",
      "{'name': 'The Paddock Grill'}\n",
      "{'name': 'Riverside Mill Food Court'}\n",
      "{'name': 'Meadow Depot'}\n",
      "{'name': 'Roaring Fork'}\n",
      "{'name': 'Landscape of Flavors'}\n",
      "{'name': \"Peevy's Polar Pipeline\"}\n",
      "{'name': 'Splash Grill'}\n",
      "{'name': 'The Fountain'}\n",
      "{'name': 'Beaches & Cream Soda Shop'}\n",
      "{'name': 'Electric Umbrella'}\n",
      "{'name': 'Liberty Inn'}\n",
      "{'name': 'Sommerfest'}\n",
      "{'name': 'Kringla Bakeri Og Kafe'}\n",
      "{'name': 'Tamu Tamu Refreshments'}\n",
      "{'name': 'Yak & Yeti Local Foods Cafe'}\n",
      "{'name': 'Yak & Yeti Bahktapur Market'}\n",
      "{'name': 'Yak & Yeti Quality Beverages'}\n",
      "{'name': 'The Lunching Pad'}\n",
      "{'name': \"Papa John's\"}\n",
      "{'name': 'Everything Pop'}\n",
      "{'name': 'World Premiere Food Court'}\n",
      "{'name': 'Las Ventanas'}\n",
      "{'name': 'Pepper Market'}\n",
      "{'name': 'Maji Pool Bar'}\n",
      "{'name': 'Kona Island'}\n",
      "{'name': \"Capt. Cook's\"}\n",
      "{'name': \"Domino's\"}\n",
      "{'name': 'Subway'}\n",
      "{'name': 'Pizza Window'}\n",
      "{'name': \"Jimmy John's\"}\n",
      "{'name': 'A&W'}\n",
      "{'name': 'Mr. Sushi Express'}\n",
      "{'name': 'Checkers'}\n",
      "{'name': 'Subway'}\n",
      "{'name': \"Domino's Pizza\"}\n",
      "{'name': 'Turkey Legs'}\n",
      "{'name': \"Moe's Southwest Grill\"}\n",
      "{'name': 'Johnny Rockets'}\n",
      "{'name': 'Bongos Cuban Café Express'}\n",
      "{'name': 'Harambe Market'}\n",
      "{'name': 'The Sand Bar'}\n",
      "{'name': 'Gasparilla Island Grill'}\n",
      "{'name': \"Mangino's Bistro To-Go\"}\n",
      "{'name': 'Pizza Rizzo'}\n",
      "{'name': {'en': 'Subway'}}\n",
      "{'name': {'en': 'Nipa hut'}}\n",
      "{'name': 'Fleur de Lys'}\n",
      "{'name': 'Florida Fresh'}\n",
      "{'name': 'Taste of Marrakesh'}\n",
      "{'name': 'Hanami'}\n",
      "{'name': 'Funnel Cake'}\n",
      "{'name': 'The Smokehouse Barbecue and Brews'}\n",
      "{'name': 'Primavera Kitchen'}\n",
      "{'name': \"Bauernmarkt: Farmer's Market\"}\n",
      "{'name': 'Lotus House'}\n",
      "{'name': 'Jardin de Fiestas'}\n",
      "{'name': 'La Isla Fresca'}\n",
      "{'name': 'The Berry Basket'}\n",
      "{'name': 'Pineapple Promenade'}\n",
      "{'name': 'Urban Farm Eats'}\n",
      "{'name': 'Northern Bloom'}\n",
      "{'name': 'Popcorn in Canada'}\n",
      "{'name': 'Cider House'}\n",
      "{'name': 'Subway'}\n",
      "{'name': 'The Polite Pig'}\n",
      "{'name': 'Coca-Cola Rooftop Beverage Bar'}\n",
      "{'name': 'Disney Food Trucks'}\n",
      "{'name': 'Morimoto Asia Street Food'}\n",
      "{'name': 'Five Guys'}\n",
      "{'name': 'Geyser Point Bar & Grill'}\n",
      "{'name': 'End Zone Food Court'}\n",
      "{'name': 'Intermission Food Court'}\n",
      "{'name': 'Subway'}\n",
      "{'name': 'Pizza Ponte'}\n",
      "{'name': 'Taco Bell'}\n",
      "{'name': \"Wendy's\"}\n",
      "{'name': \"Mickey's Backyard BBQ\"}\n",
      "{'name': \"McDonald's\"}\n",
      "{'name': \"McDonald's\"}\n",
      "{'name': 'Taco Bell'}\n",
      "{'name': 'Anaheim Produce'}\n",
      "{'name': 'Fairfax Faire'}\n",
      "{'name': 'Golden Oak Outpost'}\n",
      "{'name': \"Ciao's Pizza & Deli\"}\n",
      "{'name': 'Twistee Treat'}\n",
      "{'name': 'Lottawatta Lodge'}\n",
      "{'name': 'Avalunch'}\n",
      "{'name': 'Warming Hut'}\n",
      "{'name': 'Cooling Hut'}\n",
      "{'name': 'Leaning Palms'}\n",
      "{'name': \"Lowtide Lou's\"}\n",
      "{'name': 'Imagination Plaza Pretzels'}\n",
      "{'name': 'Les Vins des Chefs de France'}\n",
      "{'name': 'Turkey Legs'}\n",
      "{'name': 'Concessions'}\n",
      "{'name': \"McDonald's\"}\n",
      "{'name': 'KFC'}\n",
      "{'name': \"Wendy's Old Fashioned Hamburgers\"}\n",
      "{'name': \"McDonald's\"}\n",
      "{'name': \"Wendy's\"}\n",
      "{'name': 'Chick-fil-A'}\n",
      "{'name': 'Westward HO!'}\n",
      "{'name': 'Pecos Bill Tale Tale Inn and Café'}\n",
      "{'name': 'Mardi Grogs'}\n",
      "{'name': \"Wendy's\"}\n",
      "{'name': \"McDonald's\"}\n",
      "{'name': 'Taste Track'}\n",
      "{'name': 'The Smokehouse'}\n",
      "{'name': 'Marketplace Snacks'}\n",
      "{'name': 'Barefoot Bay Pool Bar'}\n",
      "{'name': 'Siestas Cantina'}\n",
      "{'name': 'Surf Doggies'}\n",
      "{'name': 'Soft Serve'}\n",
      "{'name': \"Wetzel's Pretzels\"}\n",
      "{'name': 'On The Rocks Pool Bar'}\n",
      "{'name': 'Backstretch Pool Bar'}\n",
      "{'name': \"Crush 'n' Gusher Hot Dog Cart\"}\n",
      "{'name': \"Typhoon Tillie's\"}\n",
      "{'name': \"Let's Go Slurpin'\"}\n",
      "{'name': 'Turtle Shack Poolside Snacks'}\n",
      "{'name': 'Snackstand'}\n",
      "{'name': 'Ice Cold'}\n",
      "{'name': 'Concessions'}\n",
      "{'name': \"Catalina Eddie's\"}\n",
      "{'name': \"Rosie's All-American Café\"}\n",
      "{'name': 'Sunshine Day'}\n",
      "{'name': \"Min and Bill's Dockside Diner\"}\n",
      "{'name': 'ABC Commissary'}\n",
      "{'name': 'Leaping Horse Libations'}\n",
      "{'name': 'Funnel Cakes'}\n",
      "{'name': 'The To-Go Cart'}\n",
      "{'name': 'Cabana Bar & Grill'}\n",
      "{'name': \"Hurricane Hanna's\"}\n",
      "{'name': 'Test Track Cool Wash'}\n",
      "{'name': 'Promenade Refreshments'}\n",
      "{'name': 'Refreshment Port'}\n",
      "{'name': 'Crepes des Chefs de France'}\n",
      "{'name': 'Katsura Grill'}\n",
      "{'name': 'Fife and Drum Tavern'}\n",
      "{'name': \"Joffrey's Espresso Coffee and Pastries\"}\n",
      "{'name': 'Kabuki Cafe'}\n",
      "{'name': 'Refreshment Cool Post'}\n",
      "{'name': 'La Cantina de San Angel'}\n",
      "{'name': 'Flame Tree Barbecue'}\n",
      "{'name': 'The Feeding Ground'}\n",
      "{'name': 'Smiling Crocodile'}\n",
      "{'name': 'Block and Hans'}\n",
      "{'name': 'Eight Spoon Cafe'}\n",
      "{'name': 'Harambe Popcorn'}\n",
      "{'name': 'Harambe Fruit Market'}\n",
      "{'name': 'Drinkwallah'}\n",
      "{'name': 'Trilo-Bites'}\n",
      "{'name': 'Restaurantosaurus'}\n",
      "{'name': 'Dino Diner'}\n",
      "{'name': 'Tomorrowland Terrace Noodle Station'}\n",
      "{'name': \"Gaston's Tavern\"}\n",
      "{'name': \"The Friar's Nook\"}\n",
      "{'name': 'Burger King'}\n",
      "{'name': \"Wendy's\"}\n",
      "{'name': 'Les Halles Boulangerie & Pâtisserie'}\n",
      "{'name': \"McDonald's\"}\n",
      "{'name': \"Wendy's\"}\n",
      "{'name': 'Panda Express'}\n",
      "{'name': 'Burger King'}\n",
      "{'name': 'Taco Bell'}\n",
      "{'name': \"Arby's\"}\n",
      "{'name': \"McDonald's\"}\n",
      "{'name': 'Taco Bell'}\n",
      "{'name': \"McDonald's\"}\n",
      "{'name': 'Laguna Bar'}\n",
      "{'name': 'Taco Bell'}\n",
      "{'name': 'Chick-fil-a'}\n",
      "{'name': 'On The Greens Grill'}\n",
      "{'name': 'Pretzelmaker'}\n",
      "{'name': \"Ben & Jerry's\"}\n",
      "{'name': 'Bakery'}\n",
      "{'name': \"Dippin' Dots\"}\n",
      "{'name': \"Captain Pete's Island Hot Dogs\"}\n",
      "{'name': 'Drinks'}\n",
      "{'name': \"Dippin' Dots\"}\n",
      "{'name': 'South Pole Beverage'}\n",
      "{'name': 'Expedition Cafe'}\n",
      "{'name': 'Seaport Pizza'}\n",
      "{'name': 'Spice Mill Burgers'}\n",
      "{'name': 'Lakeside Panini Bistro'}\n",
      "{'name': 'Drinks'}\n",
      "{'name': 'Coconut Cove Snacks'}\n",
      "{'name': \"Ginther's Swirls Ice Cream\"}\n",
      "{'name': 'Avalunch'}\n",
      "{'name': 'Mini Donuts'}\n",
      "{'name': 'Beach Pool Bar'}\n",
      "{'name': 'Barefoot Pool Bar'}\n",
      "{'name': 'Cove Bar'}\n",
      "{'name': 'The Diamond Horseshoe'}\n",
      "{'name': 'Petals Pool Bar'}\n",
      "{'name': 'The Drop Off Pool Bar'}\n",
      "{'name': 'Terra Treats'}\n",
      "{'name': 'Pizzafari'}\n",
      "{'name': 'Shake Shack'}\n",
      "{'name': 'Burger King'}\n",
      "{'name': 'Centertown'}\n",
      "{'name': 'The Daily Poutine'}\n",
      "{'name': 'D-Luxe Burger'}\n",
      "{'name': \"Blaze Fast-Fire'd Pizza\"}\n",
      "{'name': \"Wetzel's Pretzels\"}\n",
      "{'name': \"Joffrey's Handcrafted Smoothies\"}\n",
      "{'name': 'YeSake'}\n",
      "{'name': \"Satu'li Canteen\"}\n",
      "{'name': \"B.B. Wolf's Sausage Company\"}\n",
      "{'name': 'AristoCrêpes'}\n",
      "{'name': 'Backlot Express'}\n",
      "{'name': \"Popeye's\"}\n",
      "{'name': \"Wendy's\"}\n",
      "{'name': 'Oasis Bar & Grill'}\n"
     ]
    }
   ],
   "source": [
    "#find all fast_food restauraunts in the dataset\n",
    "fastfood = db.disneyworld.find({\"amenity\" : \"fast_food\", \"name\" : { \"$exists\": \"true\", \"$ne\": \"null\" }}, {\"name\": 1, \"_id\":0})\n",
    "for line in fastfood:\n",
    "    print(line)"
   ]
  },
  {
   "cell_type": "code",
   "execution_count": 205,
   "metadata": {
    "collapsed": false
   },
   "outputs": [
    {
     "name": "stdout",
     "output_type": "stream",
     "text": [
      "{'name': 'Express Line: Magic Kingdom'}\n",
      "{'name': 'Resort Line: Magic Kingdom'}\n",
      "{'name': 'Resort Line: The Grand Floridian Resort'}\n",
      "{'name': 'Resort Line: The Polynesian Village'}\n",
      "{'name': 'Resort Line: Ticket and Transportation Center'}\n",
      "{'name': 'Express Line: Ticket and Transportation Center'}\n",
      "{'name': 'Epcot Line: Ticket and Transportation Center'}\n",
      "{'name': 'Resort Line: The Contemporary Resort'}\n",
      "{'name': 'Main Street, U.S.A. Station'}\n",
      "{'name': 'Harambe Station'}\n",
      "{'name': 'Conservation Station'}\n",
      "{'name': 'Epcot Monorail Station'}\n",
      "{'name': 'Fantasyland Station'}\n",
      "{'name': 'Frontierland Station'}\n",
      "{'name': 'People Mover'}\n",
      "{'name': 'Main Street Station'}\n"
     ]
    }
   ],
   "source": [
    "#find all railway or monorail stations in the dataset\n",
    "stations = db.disneyworld.find({\"railway\" : \"station\", \"name\" : { \"$exists\": \"true\", \"$ne\": \"null\" }}, {\"name\": 1, \"_id\":0})\n",
    "for line in stations:\n",
    "    print(line)"
   ]
  },
  {
   "cell_type": "code",
   "execution_count": 236,
   "metadata": {
    "collapsed": false
   },
   "outputs": [
    {
     "name": "stdout",
     "output_type": "stream",
     "text": [
      "There are 165 hotels within the dataset\n",
      "{'name': 'Allure Resort International Drive Orlando'}\n",
      "{'name': 'B Resort & Spa'}\n",
      "{'name': 'BEST WESTERN Lake Buena Vista Resort Hotel'}\n",
      "{'name': 'BEST WESTERN PLUS Orlando Convention Center Hotel'}\n",
      "{'name': \"Bay Lake Tower at Disney's Contemporary Resort\"}\n",
      "{'name': 'Blue Inn'}\n",
      "{'name': 'Bluegreen Fountains Resort'}\n",
      "{'name': 'Buena Vista Palace'}\n",
      "{'name': 'Buena Vista Suites'}\n",
      "{'name': 'Building 19 Vacation Village At Parkway'}\n",
      "{'name': 'Caribe Royale All Suite Hotel & Convention Center'}\n",
      "{'name': 'Celebration Suites'}\n",
      "{'name': 'Champions World Resort'}\n",
      "{'name': 'Claremont Inn'}\n",
      "{'name': 'Claremont Kissimmee Hotel'}\n",
      "{'name': 'Clarion Inn & Suites At International Drive'}\n",
      "{'name': 'Clarion Inn Lake Buena Vista'}\n",
      "{'name': 'Clarion Suites Maingate'}\n",
      "{'name': 'Classic Worldwide Hotel'}\n",
      "{'name': 'Comfort Inn'}\n",
      "{'name': 'Comfort Inn Maingate'}\n",
      "{'name': 'Comfort Suites Maingate East'}\n",
      "{'name': 'Confortable Inn'}\n",
      "{'name': 'Continental Plaza Hotel Kissimmee by Disney World'}\n",
      "{'name': 'Country Inn & Suites'}\n",
      "{'name': 'Courtyard Orlando International Drive/Convention Center'}\n",
      "{'name': 'Courtyard Orlando Lake Buena Vista in the Marriott Village'}\n",
      "{'name': 'Courtyard Orlando South/John Young Parkway'}\n",
      "{'name': 'Cypress Harbour Marriott'}\n",
      "{'name': 'Days Inn Orlando Convention Center/International Drive'}\n",
      "{'name': 'Delta Orlando Lake Buena Vista'}\n",
      "{'name': 'Destiny Palms'}\n",
      "{'name': 'Disney Polynesian Village Resort'}\n",
      "{'name': \"Disney's All-Star Movies Resort\"}\n",
      "{'name': \"Disney's All-Star Music Resort\"}\n",
      "{'name': \"Disney's All-Star Sports Resort\"}\n",
      "{'name': \"Disney's Animal Kingdom Lodge-Jambo Lodge\"}\n",
      "{'name': \"Disney's Animal Kingdom Villas - Kidani Village\"}\n",
      "{'name': \"Disney's Art of Animation Resort\"}\n",
      "{'name': \"Disney's Beach Club Resort\"}\n",
      "{'name': \"Disney's Beach Club Villas\"}\n",
      "{'name': \"Disney's BoardWalk Inn\"}\n",
      "{'name': \"Disney's BoardWalk Villas\"}\n",
      "{'name': \"Disney's Caribbean Beach Resort\"}\n",
      "{'name': \"Disney's Contemporary Resort\"}\n",
      "{'name': \"Disney's Coronado Springs Resort\"}\n",
      "{'name': \"Disney's Old Key West Resort\"}\n",
      "{'name': \"Disney's Pop Century Resort\"}\n",
      "{'name': \"Disney's Port Orleans French Quarter Resort\"}\n",
      "{'name': \"Disney's Port Orleans Riverside Resort\"}\n",
      "{'name': \"Disney's Saratoga Springs Resort & Spa\"}\n",
      "{'name': \"Disney's Wilderness Lodge\"}\n",
      "{'name': \"Disney's Yacht Club Resort\"}\n",
      "{'name': 'DoubleTree Suites by Hilton Hotel Orlando - Lake Buena Vista'}\n",
      "{'name': 'Doubletree by Hilton Orlandoat SeaWorld'}\n",
      "{'name': 'Embassy Suites Orlando - Lake Buena Vista South'}\n",
      "{'name': 'Embassy Suites Orlando/Lake Buena Vista Resort'}\n",
      "{'name': 'Embassy Suites by Hilton Orlando - International Drive / Convention Center'}\n",
      "{'name': 'Extended Stay America - Orlando - Convention Center - Universal Blvd'}\n",
      "{'name': 'Fairfield Inn & Suites'}\n",
      "{'name': 'Fairfield Inn & Suites Orlando Lake Buena Vista'}\n",
      "{'name': 'Fairfield Inn & Suites Orlando Lake Buena Vista in the Marriott Village'}\n",
      "{'name': 'Fairfield Inn & Suites Orlando at SeaWorld'}\n",
      "{'name': 'Fantasy World Club Villas'}\n",
      "{'name': 'Florida Vacation Villas'}\n",
      "{'name': 'Floridays Orlando Resort'}\n",
      "{'name': 'Four Star Hotel Kissimmee'}\n",
      "{'name': 'Galleria Palms Hotel'}\n",
      "{'name': 'Hampton Inn & Suites Orlando - South Lake Buena Vista'}\n",
      "{'name': 'Hampton Inn & Suites Orlando at SeaWorld'}\n",
      "{'name': 'Hampton Inn Orlando International Drive/Convention Center'}\n",
      "{'name': 'Hawthorn Suites by Wyndham Orlando, Westwood Blvd'}\n",
      "{'name': 'Hilton Garden Inn Lake Buena Vista/Orlando'}\n",
      "{'name': 'Hilton Garden Inn Orlando at SeaWorld'}\n",
      "{'name': 'Hilton Grand Vacations at Tuscany Village'}\n",
      "{'name': 'Hilton Orlando Bonnet Creek'}\n",
      "{'name': 'Hilton Orlando Lake Buena Vista'}\n",
      "{'name': 'Holiday Inn Express Orlando - Lake Buena Vista East'}\n",
      "{'name': 'Holiday Inn Orlando – Disney Springs Area'}\n",
      "{'name': 'Holiday Inn Resort Orlando-Lake Buena Vista'}\n",
      "{'name': 'Home2 Suites by Hilton Orlando/International Drive South'}\n",
      "{'name': 'Homewood Suites Orlando/International Drive/Convention Center'}\n",
      "{'name': 'Homewood Suites by Hilton Lake Buena Vista-Orlando'}\n",
      "{'name': 'Howard Johnson Enchanted Land Hotel'}\n",
      "{'name': 'Hyatt Place Orlando / Lake Buena Vista'}\n",
      "{'name': 'Hyatt Place Orlando/Convention Center'}\n",
      "{'name': 'Hyatt Regency Grand Cypress'}\n",
      "{'name': 'Hyatt Regency Orlando'}\n",
      "{'name': 'JW Marriott Orlando, Grande Lakes'}\n",
      "{'name': 'Lake Buena Vista Resort Village & Spa'}\n",
      "{'name': 'Lake Eve Resort'}\n",
      "{'name': 'Las Palmeras by Hilton Grand Vacations'}\n",
      "{'name': 'Legacy Vacation Club Kissimmee'}\n",
      "{'name': 'Maingate Lakeside Resort'}\n",
      "{'name': \"Marriott's Cypress Harbour Villas\"}\n",
      "{'name': \"Marriott's Harbour Lake\"}\n",
      "{'name': \"Marriott's Lakeshore Reserve\"}\n",
      "{'name': \"Marriott's Royal Palms\"}\n",
      "{'name': \"Marriott's Sabal Palms\"}\n",
      "{'name': 'Masters Inn Orlando Kissimmee'}\n",
      "{'name': 'Monumental Hotel Orlando'}\n",
      "{'name': 'Motel 6 Orlando Kissimmee Main Gate East'}\n",
      "{'name': 'Oasis Lakes Resorts'}\n",
      "{'name': 'Orlando Metropolitan Resort'}\n",
      "{'name': 'Orlando World Center Marriott'}\n",
      "{'name': 'Palms Hotel & Villas'}\n",
      "{'name': 'Palms Resort'}\n",
      "{'name': 'Park Inn By Radisson Orlando - Celebration'}\n",
      "{'name': 'Park Inn by Radisson Resort and Conference Center'}\n",
      "{'name': 'Parkway International Resort'}\n",
      "{'name': 'Polynesian Isles Resort'}\n",
      "{'name': 'Quality'}\n",
      "{'name': 'Quality Inn & Suites'}\n",
      "{'name': 'Quality Suites Universal South'}\n",
      "{'name': 'Radisson Hotel Orlando - Lake Buena Vista'}\n",
      "{'name': 'Ramada Kissimmee Gateway'}\n",
      "{'name': 'Ramada Orlando Near Convention Center'}\n",
      "{'name': 'Red Lion Hotel Orlando - Kissimmee Maingate'}\n",
      "{'name': 'Red Lion Hotel Orlando Lake Buena Vista South'}\n",
      "{'name': 'Regal Oaks - A CLC World Resort'}\n",
      "{'name': 'Renaissance Orlando at SeaWorld'}\n",
      "{'name': 'Residence Inn Orlando Convention Center'}\n",
      "{'name': 'Residence Inn Orlando Lake Buena Vista'}\n",
      "{'name': 'Rodeway Inn Maingate'}\n",
      "{'name': 'Roomba Inn & Suites Orlando'}\n",
      "{'name': 'Rosen Centre Hotel'}\n",
      "{'name': 'Rosen Inn at Pointe Orlando'}\n",
      "{'name': 'Rosen Plaza Hotel'}\n",
      "{'name': 'Rosen Shingle Creek'}\n",
      "{'name': 'Runaway Beach Club'}\n",
      "{'name': 'Seralago Hotel and Suites'}\n",
      "{'name': 'Shades of Green'}\n",
      "{'name': 'Shades of Green'}\n",
      "{'name': 'Sheraton Vistana Resort - Lake Buena Vista'}\n",
      "{'name': 'Sheraton Vistana Villages - International Drive'}\n",
      "{'name': 'Shingle Creek Golf Club'}\n",
      "{'name': 'Silver Lake Resort'}\n",
      "{'name': 'Sonesta ES Suites Orlando'}\n",
      "{'name': 'SpringHill Suites'}\n",
      "{'name': 'SpringHill Suites Orlando Convention Center/International Drive Area'}\n",
      "{'name': 'SpringHill Suites Orlando Kissimmee'}\n",
      "{'name': 'SpringHill Suites Orlando Lake Buena Vista in Marriott Village'}\n",
      "{'name': 'SpringHill Suites Orlando at SeaWorld'}\n",
      "{'name': 'Star Island Resort & Country Club'}\n",
      "{'name': 'Staybridge Suites Orlando-Theme Parks'}\n",
      "{'name': \"The Villas at Disney's Grand Floridian Resort & Spa\"}\n",
      "{'name': \"The Villas at Disney's Wilderness Lodge\"}\n",
      "{'name': 'TownPlace Suites'}\n",
      "{'name': 'Tropical Palms Resort'}\n",
      "{'name': 'Vacation Village at Parkway'}\n",
      "{'name': 'Vacation village'}\n",
      "{'name': 'Villas at Seven Dwarfs Lane'}\n",
      "{'name': 'Waldorf Astoria Orlando'}\n",
      "{'name': 'Walt Disney World Dolphin Resort'}\n",
      "{'name': 'Walt Disney World Swan Resort'}\n",
      "{'name': 'Westgate Lakes Resort & Spa'}\n",
      "{'name': 'Westgate Lakes Resort & Spa'}\n",
      "{'name': 'Westgate Resorts'}\n",
      "{'name': 'Westgate Towers'}\n",
      "{'name': 'Westgate Town Center'}\n",
      "{'name': 'WorldMark Kingstown Reef'}\n",
      "{'name': 'WorldQuest Orlando Resort'}\n",
      "{'name': 'Wyndham Cypress Palms'}\n",
      "{'name': 'Wyndham Lake Buena Vista Disney Springs Resort Area'}\n",
      "{'name': 'Wyndham Orlando Resort'}\n"
     ]
    }
   ],
   "source": [
    "hotels = db.disneyworld.find({\"tourism\" : \"hotel\", \"name\" : { \"$exists\": \"true\", \"$ne\": \"null\" }}, {\"name\": 1, \"_id\":0})\n",
    "print(\"There are \"+str(hotels.count())+ \" hotels within the dataset\")\n",
    "for line in hotels.sort(\"name\", 1):\n",
    "    print(line)"
   ]
  },
  {
   "cell_type": "code",
   "execution_count": 243,
   "metadata": {
    "collapsed": false
   },
   "outputs": [
    {
     "name": "stdout",
     "output_type": "stream",
     "text": [
      "{'count': 31, '_id': 'american'}\n",
      "{'count': 10, '_id': 'pizza'}\n",
      "{'count': 8, '_id': 'mexican'}\n",
      "{'count': 7, '_id': 'italian'}\n",
      "{'count': 6, '_id': 'chinese'}\n"
     ]
    }
   ],
   "source": [
    "#returns the top 5 cuisines for restaurants in the dataset\n",
    "for i in db.disneyworld.aggregate([{\"$match\":{\"amenity\":{\"$exists\":1}, \"amenity\":\"restaurant\",\n",
    "                                    \"cuisine\" : { \"$exists\": \"true\", \"$ne\": \"null\" }}}, \n",
    "                                   {\"$group\":{\"_id\":\"$cuisine\", \"count\":{\"$sum\":1}}},{\"$sort\":{\"count\":-1}},\n",
    "                                   {\"$limit\" : 5}]):\n",
    "    print(i)"
   ]
  },
  {
   "cell_type": "markdown",
   "metadata": {},
   "source": [
    "# Additional Improvements\n",
    "\n",
    "The biggest thing issue I discovered while I was querying the database is that there are multiple documents for the same items. This leads to inacurate counts as well as confusing data. One example is there are two \"Epcot\"s in the dataset, yet only one exists in real life."
   ]
  },
  {
   "cell_type": "code",
   "execution_count": 213,
   "metadata": {
    "collapsed": false
   },
   "outputs": [
    {
     "name": "stdout",
     "output_type": "stream",
     "text": [
      "{'tourism': 'theme_park', 'website': 'https://disneyworld.disney.go.com/destinations/epcot/', 'start_date': '1982-10-01', 'wikipedia': 'en:Epcot', 'name': 'Epcot', 'id': '449024190', 'alt_name': 'Experimental Prototype Community Of Tomorrow', 'designation': 'Walt Disney World Resort', 'address': {'state': 'FL', 'housenumber': '200', 'street': 'Epcot Center Drive', 'postcode': '32821', 'city': 'Lake Buena Vista'}, 'type': 'way', 'wheelchair': 'yes', 'old_name': 'Epcot Center', 'operator': 'Disney Parks and Resorts', 'created': {'version': '4', 'user': 'Mongo Poker', 'uid': '4256778', 'timestamp': '2018-01-02T22:29:14Z', 'changeset': '55112502'}, 'opening_hours': 'Mon-Sun (Epcot park hours vary from day to day. Future World and World Showcase usually open at different times. For current park hours visit https://disneyworld.disney.go.com/calendars/)'}\n",
      "{'tourism': 'theme_park', 'website': 'https://disneyworld.disney.go.com/destinations/epcot/', 'wikipedia': 'en:Epcot', 'name': 'Epcot', 'id': '515464582', 'alt_name': 'Experimental Prototype Community Of Tomorrow', 'designation': 'Walt Disney World Resort', 'address': {'state': 'FL', 'housenumber': '200', 'street': 'Epcot Center Drive', 'postcode': '32821', 'city': 'Lake Buena Vista'}, 'type': 'way', 'old_name': 'Epcot Center', 'operator': 'Disney Parks and Resorts', 'created': {'version': '1', 'user': 'Brian@Brea', 'uid': '416346', 'timestamp': '2017-08-14T08:34:15Z', 'changeset': '51102424'}, 'opening_hours': 'Mon-Sun (Epcot park hours vary from day to day. Future World and World Showcase usually open at different times. For current park hours visit https://disneyworld.disney.go.com/calendars/)'}\n"
     ]
    }
   ],
   "source": [
    "for i in db.disneyworld.find({\"name\" : \"Epcot\"}, {\"node_refs\": 0, \"_id\" : 0}):\n",
    "    print(i)"
   ]
  },
  {
   "cell_type": "markdown",
   "metadata": {},
   "source": [
    "You can see from the two returned from that query that they are very similar. So it would appeard the biggest hurdle of this dataset is accurate and complete data. \n",
    "\n",
    "The biggest hurdle with trying to address multiple documents for the same location, would be that it would be extremely time consuming to check which document is the most accurate and what you need to merge between the two files. There arent many ways to programatically merge documents because it requires a human touch."
   ]
  },
  {
   "cell_type": "markdown",
   "metadata": {},
   "source": [
    "# Conclusion\n",
    "\n",
    "The conclusions that I have drawn is that there are definitely power users who account from over half of all the map edits. This can lead to problems when it comes to data acuracy and cleanliness. For the most part the data was pretty cleaned and ready for database import. There were a few examples where I had to pass the value through a function to return a cleaned format of the value. This was all very easy to accomplish programatically. The area around Disney World is absolutely well maintained. I believe that leads to the fact that many people enjoy Disney World, and they want the data to be accurate. Assuming the duplicate nodes can be pruned in such a way that there exists only one node for each location, would be ideal."
   ]
  },
  {
   "cell_type": "code",
   "execution_count": 245,
   "metadata": {
    "collapsed": false
   },
   "outputs": [
    {
     "data": {
      "text/plain": [
       "0"
      ]
     },
     "execution_count": 245,
     "metadata": {},
     "output_type": "execute_result"
    }
   ],
   "source": [
    "from subprocess import call\n",
    "call(['python', '-m', 'nbconvert', 'DataWranglingMongoDB-BiggerDataSet.ipynb'])"
   ]
  },
  {
   "cell_type": "code",
   "execution_count": null,
   "metadata": {
    "collapsed": true
   },
   "outputs": [],
   "source": []
  }
 ],
 "metadata": {
  "anaconda-cloud": {},
  "kernelspec": {
   "display_name": "Python [default]",
   "language": "python",
   "name": "python3"
  },
  "language_info": {
   "codemirror_mode": {
    "name": "ipython",
    "version": 3
   },
   "file_extension": ".py",
   "mimetype": "text/x-python",
   "name": "python",
   "nbconvert_exporter": "python",
   "pygments_lexer": "ipython3",
   "version": "3.5.2"
  }
 },
 "nbformat": 4,
 "nbformat_minor": 2
}
